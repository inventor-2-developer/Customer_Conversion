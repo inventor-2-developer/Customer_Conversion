{
 "cells": [
  {
   "cell_type": "code",
   "execution_count": 1,
   "metadata": {},
   "outputs": [],
   "source": [
    "# Import the dependencies\n",
    "import pandas as pd\n",
    "from sklearn.model_selection import train_test_split\n",
    "from sklearn.linear_model import LogisticRegression\n",
    "from sklearn.metrics import confusion_matrix, accuracy_score, classification_report\n"
   ]
  },
  {
   "cell_type": "code",
   "execution_count": 2,
   "metadata": {},
   "outputs": [],
   "source": [
    "# Read the CSV into a DataFrame\n",
    "data = pd.read_csv('./Resources/sales.csv')"
   ]
  },
  {
   "cell_type": "code",
   "execution_count": 3,
   "metadata": {},
   "outputs": [
    {
     "data": {
      "text/html": [
       "<div>\n",
       "<style scoped>\n",
       "    .dataframe tbody tr th:only-of-type {\n",
       "        vertical-align: middle;\n",
       "    }\n",
       "\n",
       "    .dataframe tbody tr th {\n",
       "        vertical-align: top;\n",
       "    }\n",
       "\n",
       "    .dataframe thead th {\n",
       "        text-align: right;\n",
       "    }\n",
       "</style>\n",
       "<table border=\"1\" class=\"dataframe\">\n",
       "  <thead>\n",
       "    <tr style=\"text-align: right;\">\n",
       "      <th></th>\n",
       "      <th>PageVisitsCat1</th>\n",
       "      <th>PageVisitDurationCat1</th>\n",
       "      <th>PageVisitsCat2</th>\n",
       "      <th>PageVisitDurationCat2</th>\n",
       "      <th>PageVisitsCat3</th>\n",
       "      <th>PageVisitDurationCat3</th>\n",
       "      <th>BounceRates</th>\n",
       "      <th>ExitRates</th>\n",
       "      <th>PageValues</th>\n",
       "      <th>HowCloseToSpecialDay</th>\n",
       "      <th>Month</th>\n",
       "      <th>VisitorType</th>\n",
       "      <th>Weekend</th>\n",
       "      <th>Revenue</th>\n",
       "    </tr>\n",
       "  </thead>\n",
       "  <tbody>\n",
       "    <tr>\n",
       "      <th>0</th>\n",
       "      <td>0.0</td>\n",
       "      <td>0.0</td>\n",
       "      <td>0.0</td>\n",
       "      <td>0.0</td>\n",
       "      <td>1.0</td>\n",
       "      <td>0.000000</td>\n",
       "      <td>0.200000</td>\n",
       "      <td>0.200000</td>\n",
       "      <td>0.0</td>\n",
       "      <td>0.0</td>\n",
       "      <td>Feb</td>\n",
       "      <td>Returning_Visitor</td>\n",
       "      <td>False</td>\n",
       "      <td>False</td>\n",
       "    </tr>\n",
       "    <tr>\n",
       "      <th>1</th>\n",
       "      <td>0.0</td>\n",
       "      <td>0.0</td>\n",
       "      <td>0.0</td>\n",
       "      <td>0.0</td>\n",
       "      <td>2.0</td>\n",
       "      <td>64.000000</td>\n",
       "      <td>0.000000</td>\n",
       "      <td>0.100000</td>\n",
       "      <td>0.0</td>\n",
       "      <td>0.0</td>\n",
       "      <td>Feb</td>\n",
       "      <td>Returning_Visitor</td>\n",
       "      <td>False</td>\n",
       "      <td>False</td>\n",
       "    </tr>\n",
       "    <tr>\n",
       "      <th>2</th>\n",
       "      <td>0.0</td>\n",
       "      <td>0.0</td>\n",
       "      <td>0.0</td>\n",
       "      <td>0.0</td>\n",
       "      <td>2.0</td>\n",
       "      <td>2.666667</td>\n",
       "      <td>0.050000</td>\n",
       "      <td>0.140000</td>\n",
       "      <td>0.0</td>\n",
       "      <td>0.0</td>\n",
       "      <td>Feb</td>\n",
       "      <td>Returning_Visitor</td>\n",
       "      <td>False</td>\n",
       "      <td>False</td>\n",
       "    </tr>\n",
       "    <tr>\n",
       "      <th>3</th>\n",
       "      <td>0.0</td>\n",
       "      <td>0.0</td>\n",
       "      <td>0.0</td>\n",
       "      <td>0.0</td>\n",
       "      <td>10.0</td>\n",
       "      <td>627.500000</td>\n",
       "      <td>0.020000</td>\n",
       "      <td>0.050000</td>\n",
       "      <td>0.0</td>\n",
       "      <td>0.0</td>\n",
       "      <td>Feb</td>\n",
       "      <td>Returning_Visitor</td>\n",
       "      <td>True</td>\n",
       "      <td>False</td>\n",
       "    </tr>\n",
       "    <tr>\n",
       "      <th>4</th>\n",
       "      <td>0.0</td>\n",
       "      <td>0.0</td>\n",
       "      <td>0.0</td>\n",
       "      <td>0.0</td>\n",
       "      <td>19.0</td>\n",
       "      <td>154.216667</td>\n",
       "      <td>0.015789</td>\n",
       "      <td>0.024561</td>\n",
       "      <td>0.0</td>\n",
       "      <td>0.0</td>\n",
       "      <td>Feb</td>\n",
       "      <td>Returning_Visitor</td>\n",
       "      <td>False</td>\n",
       "      <td>False</td>\n",
       "    </tr>\n",
       "  </tbody>\n",
       "</table>\n",
       "</div>"
      ],
      "text/plain": [
       "   PageVisitsCat1  PageVisitDurationCat1  PageVisitsCat2  \\\n",
       "0             0.0                    0.0             0.0   \n",
       "1             0.0                    0.0             0.0   \n",
       "2             0.0                    0.0             0.0   \n",
       "3             0.0                    0.0             0.0   \n",
       "4             0.0                    0.0             0.0   \n",
       "\n",
       "   PageVisitDurationCat2  PageVisitsCat3  PageVisitDurationCat3  BounceRates  \\\n",
       "0                    0.0             1.0               0.000000     0.200000   \n",
       "1                    0.0             2.0              64.000000     0.000000   \n",
       "2                    0.0             2.0               2.666667     0.050000   \n",
       "3                    0.0            10.0             627.500000     0.020000   \n",
       "4                    0.0            19.0             154.216667     0.015789   \n",
       "\n",
       "   ExitRates  PageValues  HowCloseToSpecialDay Month        VisitorType  \\\n",
       "0   0.200000         0.0                   0.0   Feb  Returning_Visitor   \n",
       "1   0.100000         0.0                   0.0   Feb  Returning_Visitor   \n",
       "2   0.140000         0.0                   0.0   Feb  Returning_Visitor   \n",
       "3   0.050000         0.0                   0.0   Feb  Returning_Visitor   \n",
       "4   0.024561         0.0                   0.0   Feb  Returning_Visitor   \n",
       "\n",
       "   Weekend  Revenue  \n",
       "0    False    False  \n",
       "1    False    False  \n",
       "2    False    False  \n",
       "3     True    False  \n",
       "4    False    False  "
      ]
     },
     "execution_count": 3,
     "metadata": {},
     "output_type": "execute_result"
    }
   ],
   "source": [
    "# List the columns\n",
    "data.head()\n"
   ]
  },
  {
   "cell_type": "code",
   "execution_count": 4,
   "metadata": {},
   "outputs": [
    {
     "name": "stdout",
     "output_type": "stream",
     "text": [
      "<class 'pandas.core.frame.DataFrame'>\n",
      "RangeIndex: 12283 entries, 0 to 12282\n",
      "Data columns (total 14 columns):\n",
      " #   Column                 Non-Null Count  Dtype  \n",
      "---  ------                 --------------  -----  \n",
      " 0   PageVisitsCat1         12283 non-null  float64\n",
      " 1   PageVisitDurationCat1  12283 non-null  float64\n",
      " 2   PageVisitsCat2         12283 non-null  float64\n",
      " 3   PageVisitDurationCat2  12283 non-null  float64\n",
      " 4   PageVisitsCat3         12283 non-null  float64\n",
      " 5   PageVisitDurationCat3  12283 non-null  float64\n",
      " 6   BounceRates            12283 non-null  float64\n",
      " 7   ExitRates              12283 non-null  float64\n",
      " 8   PageValues             12283 non-null  float64\n",
      " 9   HowCloseToSpecialDay   12283 non-null  float64\n",
      " 10  Month                  12283 non-null  object \n",
      " 11  VisitorType            12283 non-null  object \n",
      " 12  Weekend                12283 non-null  bool   \n",
      " 13  Revenue                12283 non-null  bool   \n",
      "dtypes: bool(2), float64(10), object(2)\n",
      "memory usage: 1.1+ MB\n"
     ]
    }
   ],
   "source": [
    "data.info()"
   ]
  },
  {
   "cell_type": "markdown",
   "metadata": {},
   "source": [
    "### Description of columns:\n",
    "\n",
    "**PageVisitsCatX:** Number of pages visited by a visitor. Cat1 is administrative, Cat2 is informational, and Cat3 is product related.\n",
    "\n",
    "**PageVisitDurationCatX:** How long a visitor stayed on the category of pages.\n",
    "\n",
    "**BounceRates:** Percentage of visitors who landed and exited a page.\n",
    "\n",
    "**ExitRates:** Percentage of visitors who left the site from that page.\n",
    "\n",
    "**PageValues:** A measurement of a page's contribution to a sale.\n",
    "\n",
    "**HowCloseToSpecialDay:** How close is browsing date to a special day or a holiday, such as Valentine's day? Higher numbers are closer.\n",
    "\n",
    "**Month:** Month of visit.\n",
    "\n",
    "**VisitorType:** Is the visitor a new or returning visitor?\n",
    "\n",
    "**Weekend:** Did the visit occur on a weekend day?\n",
    "\n",
    "**Revenue:** Did the visit conclude in a sale?"
   ]
  },
  {
   "cell_type": "markdown",
   "metadata": {},
   "source": [
    "## Perform Data Analysis"
   ]
  },
  {
   "cell_type": "code",
   "execution_count": 5,
   "metadata": {},
   "outputs": [
    {
     "name": "stderr",
     "output_type": "stream",
     "text": [
      "C:\\Users\\frank\\AppData\\Local\\Temp\\ipykernel_13812\\853588804.py:2: FutureWarning: Indexing with multiple keys (implicitly converted to a tuple of keys) will be deprecated, use a list instead.\n",
      "  Visits_per_month_df=data.groupby(['Month'])['PageVisitsCat1','PageVisitsCat2','PageVisitsCat3'].count()\n"
     ]
    },
    {
     "data": {
      "text/html": [
       "<div>\n",
       "<style scoped>\n",
       "    .dataframe tbody tr th:only-of-type {\n",
       "        vertical-align: middle;\n",
       "    }\n",
       "\n",
       "    .dataframe tbody tr th {\n",
       "        vertical-align: top;\n",
       "    }\n",
       "\n",
       "    .dataframe thead th {\n",
       "        text-align: right;\n",
       "    }\n",
       "</style>\n",
       "<table border=\"1\" class=\"dataframe\">\n",
       "  <thead>\n",
       "    <tr style=\"text-align: right;\">\n",
       "      <th></th>\n",
       "      <th>PageVisitsCat1</th>\n",
       "      <th>PageVisitsCat2</th>\n",
       "      <th>PageVisitsCat3</th>\n",
       "    </tr>\n",
       "    <tr>\n",
       "      <th>Month</th>\n",
       "      <th></th>\n",
       "      <th></th>\n",
       "      <th></th>\n",
       "    </tr>\n",
       "  </thead>\n",
       "  <tbody>\n",
       "    <tr>\n",
       "      <th>Aug</th>\n",
       "      <td>433</td>\n",
       "      <td>433</td>\n",
       "      <td>433</td>\n",
       "    </tr>\n",
       "    <tr>\n",
       "      <th>Dec</th>\n",
       "      <td>1727</td>\n",
       "      <td>1727</td>\n",
       "      <td>1727</td>\n",
       "    </tr>\n",
       "    <tr>\n",
       "      <th>Feb</th>\n",
       "      <td>171</td>\n",
       "      <td>171</td>\n",
       "      <td>171</td>\n",
       "    </tr>\n",
       "    <tr>\n",
       "      <th>Jul</th>\n",
       "      <td>431</td>\n",
       "      <td>431</td>\n",
       "      <td>431</td>\n",
       "    </tr>\n",
       "    <tr>\n",
       "      <th>June</th>\n",
       "      <td>288</td>\n",
       "      <td>288</td>\n",
       "      <td>288</td>\n",
       "    </tr>\n",
       "    <tr>\n",
       "      <th>Mar</th>\n",
       "      <td>1884</td>\n",
       "      <td>1884</td>\n",
       "      <td>1884</td>\n",
       "    </tr>\n",
       "    <tr>\n",
       "      <th>May</th>\n",
       "      <td>3357</td>\n",
       "      <td>3357</td>\n",
       "      <td>3357</td>\n",
       "    </tr>\n",
       "    <tr>\n",
       "      <th>Nov</th>\n",
       "      <td>2995</td>\n",
       "      <td>2995</td>\n",
       "      <td>2995</td>\n",
       "    </tr>\n",
       "    <tr>\n",
       "      <th>Oct</th>\n",
       "      <td>549</td>\n",
       "      <td>549</td>\n",
       "      <td>549</td>\n",
       "    </tr>\n",
       "    <tr>\n",
       "      <th>Sep</th>\n",
       "      <td>448</td>\n",
       "      <td>448</td>\n",
       "      <td>448</td>\n",
       "    </tr>\n",
       "  </tbody>\n",
       "</table>\n",
       "</div>"
      ],
      "text/plain": [
       "       PageVisitsCat1  PageVisitsCat2  PageVisitsCat3\n",
       "Month                                                \n",
       "Aug               433             433             433\n",
       "Dec              1727            1727            1727\n",
       "Feb               171             171             171\n",
       "Jul               431             431             431\n",
       "June              288             288             288\n",
       "Mar              1884            1884            1884\n",
       "May              3357            3357            3357\n",
       "Nov              2995            2995            2995\n",
       "Oct               549             549             549\n",
       "Sep               448             448             448"
      ]
     },
     "execution_count": 5,
     "metadata": {},
     "output_type": "execute_result"
    }
   ],
   "source": [
    "# Retrieve the number visits for each month.\n",
    "Visits_per_month_df=data.groupby(['Month'])['PageVisitsCat1','PageVisitsCat2','PageVisitsCat3'].count()\n",
    "Visits_per_month_df.head(25)"
   ]
  },
  {
   "cell_type": "code",
   "execution_count": 6,
   "metadata": {},
   "outputs": [
    {
     "name": "stderr",
     "output_type": "stream",
     "text": [
      "C:\\Users\\frank\\AppData\\Local\\Temp\\ipykernel_13812\\4237407440.py:2: FutureWarning: Indexing with multiple keys (implicitly converted to a tuple of keys) will be deprecated, use a list instead.\n",
      "  Visits_sales_df=data.groupby(['Revenue'])['PageVisitsCat1','PageVisitsCat2','PageVisitsCat3'].count()\n"
     ]
    },
    {
     "data": {
      "text/html": [
       "<div>\n",
       "<style scoped>\n",
       "    .dataframe tbody tr th:only-of-type {\n",
       "        vertical-align: middle;\n",
       "    }\n",
       "\n",
       "    .dataframe tbody tr th {\n",
       "        vertical-align: top;\n",
       "    }\n",
       "\n",
       "    .dataframe thead th {\n",
       "        text-align: right;\n",
       "    }\n",
       "</style>\n",
       "<table border=\"1\" class=\"dataframe\">\n",
       "  <thead>\n",
       "    <tr style=\"text-align: right;\">\n",
       "      <th></th>\n",
       "      <th>PageVisitsCat1</th>\n",
       "      <th>PageVisitsCat2</th>\n",
       "      <th>PageVisitsCat3</th>\n",
       "    </tr>\n",
       "    <tr>\n",
       "      <th>Revenue</th>\n",
       "      <th></th>\n",
       "      <th></th>\n",
       "      <th></th>\n",
       "    </tr>\n",
       "  </thead>\n",
       "  <tbody>\n",
       "    <tr>\n",
       "      <th>False</th>\n",
       "      <td>10375</td>\n",
       "      <td>10375</td>\n",
       "      <td>10375</td>\n",
       "    </tr>\n",
       "    <tr>\n",
       "      <th>True</th>\n",
       "      <td>1908</td>\n",
       "      <td>1908</td>\n",
       "      <td>1908</td>\n",
       "    </tr>\n",
       "  </tbody>\n",
       "</table>\n",
       "</div>"
      ],
      "text/plain": [
       "         PageVisitsCat1  PageVisitsCat2  PageVisitsCat3\n",
       "Revenue                                                \n",
       "False             10375           10375           10375\n",
       "True               1908            1908            1908"
      ]
     },
     "execution_count": 6,
     "metadata": {},
     "output_type": "execute_result"
    }
   ],
   "source": [
    "# Retrieve the number of visits that resulted in a purchase or not.\n",
    "Visits_sales_df=data.groupby(['Revenue'])['PageVisitsCat1','PageVisitsCat2','PageVisitsCat3'].count()\n",
    "Visits_sales_df.head(25)"
   ]
  },
  {
   "cell_type": "code",
   "execution_count": 7,
   "metadata": {},
   "outputs": [],
   "source": [
    "# What percentage of visits resulted in a purchase?\n",
    "#  15.5%"
   ]
  },
  {
   "cell_type": "code",
   "execution_count": 8,
   "metadata": {},
   "outputs": [
    {
     "data": {
      "text/html": [
       "<div>\n",
       "<style scoped>\n",
       "    .dataframe tbody tr th:only-of-type {\n",
       "        vertical-align: middle;\n",
       "    }\n",
       "\n",
       "    .dataframe tbody tr th {\n",
       "        vertical-align: top;\n",
       "    }\n",
       "\n",
       "    .dataframe thead th {\n",
       "        text-align: right;\n",
       "    }\n",
       "</style>\n",
       "<table border=\"1\" class=\"dataframe\">\n",
       "  <thead>\n",
       "    <tr style=\"text-align: right;\">\n",
       "      <th></th>\n",
       "      <th>PageVisitsCat1</th>\n",
       "      <th>PageVisitDurationCat1</th>\n",
       "      <th>PageVisitsCat2</th>\n",
       "      <th>PageVisitDurationCat2</th>\n",
       "      <th>PageVisitsCat3</th>\n",
       "      <th>PageVisitDurationCat3</th>\n",
       "      <th>BounceRates</th>\n",
       "      <th>ExitRates</th>\n",
       "      <th>PageValues</th>\n",
       "      <th>HowCloseToSpecialDay</th>\n",
       "      <th>Month</th>\n",
       "      <th>VisitorType</th>\n",
       "      <th>Weekend</th>\n",
       "    </tr>\n",
       "    <tr>\n",
       "      <th>Revenue</th>\n",
       "      <th></th>\n",
       "      <th></th>\n",
       "      <th></th>\n",
       "      <th></th>\n",
       "      <th></th>\n",
       "      <th></th>\n",
       "      <th></th>\n",
       "      <th></th>\n",
       "      <th></th>\n",
       "      <th></th>\n",
       "      <th></th>\n",
       "      <th></th>\n",
       "      <th></th>\n",
       "    </tr>\n",
       "  </thead>\n",
       "  <tbody>\n",
       "    <tr>\n",
       "      <th>False</th>\n",
       "      <td>10375</td>\n",
       "      <td>10375</td>\n",
       "      <td>10375</td>\n",
       "      <td>10375</td>\n",
       "      <td>10375</td>\n",
       "      <td>10375</td>\n",
       "      <td>10375</td>\n",
       "      <td>10375</td>\n",
       "      <td>10375</td>\n",
       "      <td>10375</td>\n",
       "      <td>10375</td>\n",
       "      <td>10375</td>\n",
       "      <td>10375</td>\n",
       "    </tr>\n",
       "    <tr>\n",
       "      <th>True</th>\n",
       "      <td>1908</td>\n",
       "      <td>1908</td>\n",
       "      <td>1908</td>\n",
       "      <td>1908</td>\n",
       "      <td>1908</td>\n",
       "      <td>1908</td>\n",
       "      <td>1908</td>\n",
       "      <td>1908</td>\n",
       "      <td>1908</td>\n",
       "      <td>1908</td>\n",
       "      <td>1908</td>\n",
       "      <td>1908</td>\n",
       "      <td>1908</td>\n",
       "    </tr>\n",
       "  </tbody>\n",
       "</table>\n",
       "</div>"
      ],
      "text/plain": [
       "         PageVisitsCat1  PageVisitDurationCat1  PageVisitsCat2  \\\n",
       "Revenue                                                          \n",
       "False             10375                  10375           10375   \n",
       "True               1908                   1908            1908   \n",
       "\n",
       "         PageVisitDurationCat2  PageVisitsCat3  PageVisitDurationCat3  \\\n",
       "Revenue                                                                 \n",
       "False                    10375           10375                  10375   \n",
       "True                      1908            1908                   1908   \n",
       "\n",
       "         BounceRates  ExitRates  PageValues  HowCloseToSpecialDay  Month  \\\n",
       "Revenue                                                                    \n",
       "False          10375      10375       10375                 10375  10375   \n",
       "True            1908       1908        1908                  1908   1908   \n",
       "\n",
       "         VisitorType  Weekend  \n",
       "Revenue                        \n",
       "False          10375    10375  \n",
       "True            1908     1908  "
      ]
     },
     "execution_count": 8,
     "metadata": {},
     "output_type": "execute_result"
    }
   ],
   "source": [
    "# Filter the DataFrame for all purchases.\n",
    "all_purchases_df=data.groupby(['Revenue']).count()\n",
    "all_purchases_df\n"
   ]
  },
  {
   "cell_type": "code",
   "execution_count": 9,
   "metadata": {},
   "outputs": [
    {
     "data": {
      "text/html": [
       "<div>\n",
       "<style scoped>\n",
       "    .dataframe tbody tr th:only-of-type {\n",
       "        vertical-align: middle;\n",
       "    }\n",
       "\n",
       "    .dataframe tbody tr th {\n",
       "        vertical-align: top;\n",
       "    }\n",
       "\n",
       "    .dataframe thead th {\n",
       "        text-align: right;\n",
       "    }\n",
       "</style>\n",
       "<table border=\"1\" class=\"dataframe\">\n",
       "  <thead>\n",
       "    <tr style=\"text-align: right;\">\n",
       "      <th></th>\n",
       "      <th>PageVisitsCat1</th>\n",
       "      <th>PageVisitDurationCat1</th>\n",
       "      <th>PageVisitsCat2</th>\n",
       "      <th>PageVisitDurationCat2</th>\n",
       "      <th>PageVisitsCat3</th>\n",
       "      <th>PageVisitDurationCat3</th>\n",
       "      <th>BounceRates</th>\n",
       "      <th>ExitRates</th>\n",
       "      <th>PageValues</th>\n",
       "      <th>HowCloseToSpecialDay</th>\n",
       "      <th>Month</th>\n",
       "      <th>VisitorType</th>\n",
       "      <th>Weekend</th>\n",
       "    </tr>\n",
       "    <tr>\n",
       "      <th>Revenue</th>\n",
       "      <th></th>\n",
       "      <th></th>\n",
       "      <th></th>\n",
       "      <th></th>\n",
       "      <th></th>\n",
       "      <th></th>\n",
       "      <th></th>\n",
       "      <th></th>\n",
       "      <th></th>\n",
       "      <th></th>\n",
       "      <th></th>\n",
       "      <th></th>\n",
       "      <th></th>\n",
       "    </tr>\n",
       "  </thead>\n",
       "  <tbody>\n",
       "    <tr>\n",
       "      <th>False</th>\n",
       "      <td>10375</td>\n",
       "      <td>10375</td>\n",
       "      <td>10375</td>\n",
       "      <td>10375</td>\n",
       "      <td>10375</td>\n",
       "      <td>10375</td>\n",
       "      <td>10375</td>\n",
       "      <td>10375</td>\n",
       "      <td>10375</td>\n",
       "      <td>10375</td>\n",
       "      <td>10375</td>\n",
       "      <td>10375</td>\n",
       "      <td>10375</td>\n",
       "    </tr>\n",
       "    <tr>\n",
       "      <th>True</th>\n",
       "      <td>1908</td>\n",
       "      <td>1908</td>\n",
       "      <td>1908</td>\n",
       "      <td>1908</td>\n",
       "      <td>1908</td>\n",
       "      <td>1908</td>\n",
       "      <td>1908</td>\n",
       "      <td>1908</td>\n",
       "      <td>1908</td>\n",
       "      <td>1908</td>\n",
       "      <td>1908</td>\n",
       "      <td>1908</td>\n",
       "      <td>1908</td>\n",
       "    </tr>\n",
       "  </tbody>\n",
       "</table>\n",
       "</div>"
      ],
      "text/plain": [
       "         PageVisitsCat1  PageVisitDurationCat1  PageVisitsCat2  \\\n",
       "Revenue                                                          \n",
       "False             10375                  10375           10375   \n",
       "True               1908                   1908            1908   \n",
       "\n",
       "         PageVisitDurationCat2  PageVisitsCat3  PageVisitDurationCat3  \\\n",
       "Revenue                                                                 \n",
       "False                    10375           10375                  10375   \n",
       "True                      1908            1908                   1908   \n",
       "\n",
       "         BounceRates  ExitRates  PageValues  HowCloseToSpecialDay  Month  \\\n",
       "Revenue                                                                    \n",
       "False          10375      10375       10375                 10375  10375   \n",
       "True            1908       1908        1908                  1908   1908   \n",
       "\n",
       "         VisitorType  Weekend  \n",
       "Revenue                        \n",
       "False          10375    10375  \n",
       "True            1908     1908  "
      ]
     },
     "execution_count": 9,
     "metadata": {},
     "output_type": "execute_result"
    }
   ],
   "source": [
    "y=data.groupby(['Revenue']).count()\n",
    "y"
   ]
  },
  {
   "cell_type": "code",
   "execution_count": 10,
   "metadata": {},
   "outputs": [
    {
     "data": {
      "text/plain": [
       "Month  Revenue\n",
       "Aug    False       357\n",
       "       True         76\n",
       "Dec    False      1511\n",
       "       True        216\n",
       "Feb    False       168\n",
       "       True          3\n",
       "Jul    False       365\n",
       "       True         66\n",
       "June   False       259\n",
       "       True         29\n",
       "Mar    False      1692\n",
       "       True        192\n",
       "May    False      2992\n",
       "       True        365\n",
       "Nov    False      2235\n",
       "       True        760\n",
       "Oct    False       434\n",
       "       True        115\n",
       "Sep    False       362\n",
       "       True         86\n",
       "Name: PageVisitsCat1, dtype: int64"
      ]
     },
     "execution_count": 10,
     "metadata": {},
     "output_type": "execute_result"
    }
   ],
   "source": [
    "# What is the number of visits for each month that resulted in a purchase?\n",
    "visits_purchase_df=data.groupby(['Month','Revenue'])['PageVisitsCat1'].count()\n",
    "visits_purchase_df"
   ]
  },
  {
   "cell_type": "code",
   "execution_count": 11,
   "metadata": {},
   "outputs": [],
   "source": [
    "# Which month had the greatest number of visits where a purchase was made?\n",
    "\n",
    "#  November==760\n"
   ]
  },
  {
   "cell_type": "code",
   "execution_count": 12,
   "metadata": {},
   "outputs": [
    {
     "data": {
      "text/plain": [
       "PageVisitsCat1           10504\n",
       "PageVisitDurationCat1    10504\n",
       "PageVisitsCat2           10504\n",
       "PageVisitDurationCat2    10504\n",
       "PageVisitsCat3           10504\n",
       "PageVisitDurationCat3    10504\n",
       "BounceRates              10504\n",
       "ExitRates                10504\n",
       "PageValues               10504\n",
       "HowCloseToSpecialDay     10504\n",
       "Month                    10504\n",
       "VisitorType              10504\n",
       "Weekend                  10504\n",
       "Revenue                  10504\n",
       "dtype: int64"
      ]
     },
     "execution_count": 12,
     "metadata": {},
     "output_type": "execute_result"
    }
   ],
   "source": [
    "# How many visits were from returning visitors?\n",
    "\n",
    "\n",
    "data[data['VisitorType']=='Returning_Visitor'].count()\n",
    "\n",
    "#10504"
   ]
  },
  {
   "cell_type": "code",
   "execution_count": 13,
   "metadata": {},
   "outputs": [
    {
     "data": {
      "text/plain": [
       "PageVisitsCat1           1694\n",
       "PageVisitDurationCat1    1694\n",
       "PageVisitsCat2           1694\n",
       "PageVisitDurationCat2    1694\n",
       "PageVisitsCat3           1694\n",
       "PageVisitDurationCat3    1694\n",
       "BounceRates              1694\n",
       "ExitRates                1694\n",
       "PageValues               1694\n",
       "HowCloseToSpecialDay     1694\n",
       "Month                    1694\n",
       "VisitorType              1694\n",
       "Weekend                  1694\n",
       "Revenue                  1694\n",
       "dtype: int64"
      ]
     },
     "execution_count": 13,
     "metadata": {},
     "output_type": "execute_result"
    }
   ],
   "source": [
    "# How many visits were from new visitors?\n",
    "data[data['VisitorType']=='New_Visitor'].count()\n",
    "#1694"
   ]
  },
  {
   "cell_type": "code",
   "execution_count": 14,
   "metadata": {},
   "outputs": [],
   "source": [
    "#visits_per_group_df=data.groupby(['VisitorType']).count()\n",
    "#visits_per_group_df"
   ]
  },
  {
   "cell_type": "code",
   "execution_count": 15,
   "metadata": {},
   "outputs": [
    {
     "data": {
      "text/plain": [
       "Weekend\n",
       "False    9421\n",
       "True     2862\n",
       "Name: PageVisitsCat1, dtype: int64"
      ]
     },
     "execution_count": 15,
     "metadata": {},
     "output_type": "execute_result"
    }
   ],
   "source": [
    "# How many visits took place on a weekday? And, on the weekend?\n",
    "visits_weekday_df=data.groupby(['Weekend'])['PageVisitsCat1'].count()\n",
    "visits_weekday_df\n",
    "\n",
    "#Weekend=9421\n",
    "#Weekday=2862"
   ]
  },
  {
   "cell_type": "markdown",
   "metadata": {},
   "source": [
    "## Perform Logistic Regression "
   ]
  },
  {
   "cell_type": "code",
   "execution_count": 22,
   "metadata": {
    "scrolled": true
   },
   "outputs": [],
   "source": [
    "# Convert categorical variables to binary variables \n",
    "data=pd.get_dummies(data)"
   ]
  },
  {
   "cell_type": "code",
   "execution_count": 24,
   "metadata": {},
   "outputs": [],
   "source": [
    "# Separate the features and target variables.\n",
    "y = data[\"Revenue\"]\n",
    "X = data.drop(columns=\"Revenue\")"
   ]
  },
  {
   "cell_type": "code",
   "execution_count": 69,
   "metadata": {},
   "outputs": [
    {
     "data": {
      "text/plain": [
       "(9212, 24)"
      ]
     },
     "execution_count": 69,
     "metadata": {},
     "output_type": "execute_result"
    }
   ],
   "source": [
    "# Split the dataset into training and testing sets\n",
    "# from sklearn.model_selection import train_test_split\n",
    "\n",
    "X_train, X_test, y_train, y_test = train_test_split(X, \n",
    "                                                    y, \n",
    "                                                    random_state=1, \n",
    "                                                    stratify=y)\n",
    "X_train.shape"
   ]
  },
  {
   "cell_type": "code",
   "execution_count": 79,
   "metadata": {},
   "outputs": [
    {
     "data": {
      "text/plain": [
       "LogisticRegression(max_iter=900, random_state=1)"
      ]
     },
     "execution_count": 79,
     "metadata": {},
     "output_type": "execute_result"
    }
   ],
   "source": [
    "# Instantiate a logistic regression model\n",
    "\n",
    "classifier = LogisticRegression(solver='lbfgs', random_state=1,max_iter=900)\n",
    "classifier"
   ]
  },
  {
   "cell_type": "code",
   "execution_count": 80,
   "metadata": {},
   "outputs": [
    {
     "data": {
      "text/plain": [
       "LogisticRegression(max_iter=900, random_state=1)"
      ]
     },
     "execution_count": 80,
     "metadata": {},
     "output_type": "execute_result"
    }
   ],
   "source": [
    "# Train the model\n",
    "classifier.fit(X_train, y_train)"
   ]
  },
  {
   "cell_type": "code",
   "execution_count": 81,
   "metadata": {},
   "outputs": [
    {
     "data": {
      "text/html": [
       "<div>\n",
       "<style scoped>\n",
       "    .dataframe tbody tr th:only-of-type {\n",
       "        vertical-align: middle;\n",
       "    }\n",
       "\n",
       "    .dataframe tbody tr th {\n",
       "        vertical-align: top;\n",
       "    }\n",
       "\n",
       "    .dataframe thead th {\n",
       "        text-align: right;\n",
       "    }\n",
       "</style>\n",
       "<table border=\"1\" class=\"dataframe\">\n",
       "  <thead>\n",
       "    <tr style=\"text-align: right;\">\n",
       "      <th></th>\n",
       "      <th>Prediction</th>\n",
       "      <th>Actual</th>\n",
       "    </tr>\n",
       "  </thead>\n",
       "  <tbody>\n",
       "    <tr>\n",
       "      <th>3228</th>\n",
       "      <td>False</td>\n",
       "      <td>False</td>\n",
       "    </tr>\n",
       "    <tr>\n",
       "      <th>4949</th>\n",
       "      <td>False</td>\n",
       "      <td>False</td>\n",
       "    </tr>\n",
       "    <tr>\n",
       "      <th>156</th>\n",
       "      <td>False</td>\n",
       "      <td>False</td>\n",
       "    </tr>\n",
       "    <tr>\n",
       "      <th>3085</th>\n",
       "      <td>False</td>\n",
       "      <td>False</td>\n",
       "    </tr>\n",
       "    <tr>\n",
       "      <th>2259</th>\n",
       "      <td>False</td>\n",
       "      <td>False</td>\n",
       "    </tr>\n",
       "  </tbody>\n",
       "</table>\n",
       "</div>"
      ],
      "text/plain": [
       "      Prediction  Actual\n",
       "3228       False   False\n",
       "4949       False   False\n",
       "156        False   False\n",
       "3085       False   False\n",
       "2259       False   False"
      ]
     },
     "execution_count": 81,
     "metadata": {},
     "output_type": "execute_result"
    }
   ],
   "source": [
    "# Use the testing data to make predictions.\n",
    "predictions = classifier.predict(X_test)\n",
    "pd.DataFrame({\"Prediction\": predictions, \"Actual\": y_test}).head()"
   ]
  },
  {
   "cell_type": "code",
   "execution_count": 82,
   "metadata": {},
   "outputs": [
    {
     "data": {
      "text/plain": [
       "0.8873331162487789"
      ]
     },
     "execution_count": 82,
     "metadata": {},
     "output_type": "execute_result"
    }
   ],
   "source": [
    "# Calculate the accuracy. \n",
    "from sklearn.metrics import accuracy_score\n",
    "# Display the accuracy score for the test dataset.\n",
    "accuracy_score(y_test, predictions)"
   ]
  },
  {
   "cell_type": "code",
   "execution_count": 83,
   "metadata": {},
   "outputs": [
    {
     "data": {
      "text/plain": [
       "array([[2541,   53],\n",
       "       [ 293,  184]], dtype=int64)"
      ]
     },
     "execution_count": 83,
     "metadata": {},
     "output_type": "execute_result"
    }
   ],
   "source": [
    "# Print the confusion matrix.\n",
    "\n",
    "from sklearn.metrics import confusion_matrix, classification_report\n",
    "\n",
    "y_true = y_test\n",
    "y_pred = classifier.predict(X_test)\n",
    "# Print the confusion matrix on the predictions. \n",
    "confusion_matrix(y_true, y_pred)"
   ]
  },
  {
   "cell_type": "code",
   "execution_count": 84,
   "metadata": {},
   "outputs": [
    {
     "name": "stdout",
     "output_type": "stream",
     "text": [
      "2541 53 293 184\n"
     ]
    }
   ],
   "source": [
    "tn, fp, fn, tp = confusion_matrix(y_true, y_pred).ravel()\n",
    "print(tn, fp, fn, tp)"
   ]
  },
  {
   "cell_type": "code",
   "execution_count": 85,
   "metadata": {},
   "outputs": [
    {
     "name": "stdout",
     "output_type": "stream",
     "text": [
      "              precision    recall  f1-score   support\n",
      "\n",
      "       False       0.90      0.98      0.94      2594\n",
      "        True       0.78      0.39      0.52       477\n",
      "\n",
      "    accuracy                           0.89      3071\n",
      "   macro avg       0.84      0.68      0.73      3071\n",
      "weighted avg       0.88      0.89      0.87      3071\n",
      "\n"
     ]
    }
   ],
   "source": [
    "# Print a classification report\n",
    "print(classification_report(y_true, y_pred))"
   ]
  },
  {
   "cell_type": "markdown",
   "metadata": {},
   "source": [
    "## Overall Model Performance\n",
    "----\n",
    "\n",
    "- **Question:** Can the logistic regression model predict whether visiting a website will result in a purchase? \n",
    "\n",
    "- **Answer:**  \n"
   ]
  },
  {
   "cell_type": "code",
   "execution_count": null,
   "metadata": {},
   "outputs": [],
   "source": [
    "# I say no eventhough the data suggests that it has an accuracy of 89 percent but it has a very low recall for TP and a low \n",
    "# precision for TP"
   ]
  },
  {
   "cell_type": "code",
   "execution_count": null,
   "metadata": {},
   "outputs": [],
   "source": []
  }
 ],
 "metadata": {
  "kernelspec": {
   "display_name": "Python 3 (ipykernel)",
   "language": "python",
   "name": "python3"
  },
  "language_info": {
   "codemirror_mode": {
    "name": "ipython",
    "version": 3
   },
   "file_extension": ".py",
   "mimetype": "text/x-python",
   "name": "python",
   "nbconvert_exporter": "python",
   "pygments_lexer": "ipython3",
   "version": "3.8.13"
  }
 },
 "nbformat": 4,
 "nbformat_minor": 4
}
